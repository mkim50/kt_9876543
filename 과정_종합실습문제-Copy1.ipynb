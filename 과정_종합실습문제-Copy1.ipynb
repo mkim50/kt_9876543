{
 "cells": [
  {
   "cell_type": "markdown",
   "id": "adb75998",
   "metadata": {
    "id": "710ee378"
   },
   "source": [
    "# 종합실습"
   ]
  },
  {
   "cell_type": "markdown",
   "id": "c8d4f4e4",
   "metadata": {
    "id": "e30eb3da"
   },
   "source": [
    "## 과제1. 회원 관리 프로그램"
   ]
  },
  {
   "cell_type": "markdown",
   "id": "89ee26fd",
   "metadata": {
    "id": "8e48b532"
   },
   "source": [
    "* 회원 이름과 이메일 주소를 입력받아 엑셀에 저장하는 프로그램을 만드시오.\n",
    "* 'members.xlsx’ 파일에는 이미 두명의 회원이 등록되어 있습니다. \n",
    "\n",
    "* 기본 기능  \n",
    "> * 이름, 이메일, 전화번호를 입력 받아 (한꺼번에 입력받아, 리스트로 만들어 처리. .split 활용)\n",
    "> * 엑셀 틀에 맞게 제일 마지막 행에 저장\n",
    "> * 단, 이메일 주소는 실제 메일 수신 가능해야 합니다.\n",
    "\n",
    "* 심화 기능\n",
    "> * 입력값 확인. 값이 3개,  쉼표로 구분된 값인지 확인.\n",
    "> * 회원 가입을 계속할지, 종료할지를 묻기"
   ]
  },
  {
   "cell_type": "code",
   "execution_count": 8,
   "id": "2582239b",
   "metadata": {
    "id": "5bcbadaf",
    "scrolled": true
   },
   "outputs": [
    {
     "name": "stdout",
     "output_type": "stream",
     "text": [
      "회원가입을 진행하겠습니까?(y/n) : y\n",
      "이름 : 김민지\n",
      "이메일주소 : kmji3@naver.com\n",
      "전화번호 : 000\n",
      "전화번호를 형식에 맞게 입력하세요(010-1234-1234)\n",
      "전화번호 : 010-1231-1111\n",
      "\n",
      "입력된 내용을 확인해주세요.\n",
      "이름 : 김민지\n",
      "이메일 : kmji3@naver.com\n",
      "전화번호 : 010-1231-1111\n",
      "\n",
      "회원가입을 진행하겠습니까?(y/n) : y\n",
      "이름 : 가가가\n",
      "이메일주소 : kmji22\n",
      "올바른 이메일 형식을 입력하세요.\n",
      "이메일주소 : kmji3@naver.com\n",
      "전화번호 : 010-2345-2345\n",
      "\n",
      "입력된 내용을 확인해주세요.\n",
      "이름 : 가가가\n",
      "이메일 : kmji3@naver.com\n",
      "전화번호 : 010-2345-2345\n",
      "\n",
      "회원가입을 진행하겠습니까?(y/n) : n\n",
      "회원가입을 종료합니다\n"
     ]
    }
   ],
   "source": [
    "import openpyxl as xl\n",
    "import re\n",
    "\n",
    "MobileNumberChk = re.compile(r'010-[0-9]\\d\\d\\d-[0-9]\\d\\d\\d')\n",
    "\n",
    "while True :\n",
    "    print('회원가입을 진행하겠습니까?(y/n) : ', end='')\n",
    "    input_check = input()\n",
    "    if input_check == 'n':\n",
    "        print('회원가입을 종료합니다')\n",
    "        break\n",
    "    else:\n",
    "        print('이름 : ', end = '')\n",
    "        name = input()\n",
    "        \n",
    "        email_check = False\n",
    "        while not email_check:\n",
    "            print('이메일주소 : ', end = '')\n",
    "            email = input()\n",
    "            if '@' in email:\n",
    "                email_check = True\n",
    "            else:\n",
    "                print('올바른 이메일 형식을 입력하세요.')\n",
    "                \n",
    "        phone_check = False\n",
    "        while not phone_check:\n",
    "            print('전화번호 : ', end = '')\n",
    "            phone = input()\n",
    "            mo = MobileNumberChk.search(phone)\n",
    "            if mo is not None:\n",
    "                phone_check = True\n",
    "            else:\n",
    "                print('전화번호를 형식에 맞게 입력하세요(010-1234-1234)')\n",
    "        \n",
    "        print()\n",
    "        print(f'입력된 내용을 확인해주세요.\\n이름 : {name}\\n이메일 : {email}\\n전화번호 : {phone}')\n",
    "        print()\n",
    "        \n",
    "        wb = xl.load_workbook(\"members.xlsx\")\n",
    "        sheet1 = wb['Sheet1']\n",
    "        insert_row = sheet1.max_row + 1\n",
    "        sheet1.cell(insert_row, 1).value = name\n",
    "        sheet1.cell(insert_row, 2).value = email\n",
    "        sheet1.cell(insert_row, 3).value = phone\n",
    "        wb.save('members.xlsx')\n"
   ]
  },
  {
   "cell_type": "markdown",
   "id": "7945c20a",
   "metadata": {
    "id": "8f3a1740"
   },
   "source": [
    "## 과제2. 회원들에게 이메일 발송"
   ]
  },
  {
   "cell_type": "markdown",
   "id": "168b1f51",
   "metadata": {
    "id": "7840678c"
   },
   "source": [
    "* 과제1에서 저장된 회원정보(members.xlsx)를 읽어서 회원 각각에게 이메일을 보내 봅시다.\n",
    "\n",
    "> * 제목 : “2021년 송년 인사”\n",
    "> * 내용 :  \n",
    ">     OOO 회원님 안녕하세요?  \n",
    "벌써 2021년도 저물어 가고 있습니다.  \n",
    "올 한해 정말 수고 많았습니다.   \n",
    "첨부한 커피 쿠폰으로 조금이나마 따뜻한 연말을 보내시기 바랍니다.  \n",
    "감사합니다. \n",
    "\n",
    "> * 회원마다 보내지는 이메일에서 각자 달라지는 것은,\t수신 이메일 주소, 메일 내용에서의 회원 이름 입니다."
   ]
  },
  {
   "cell_type": "code",
   "execution_count": 10,
   "id": "6e89c31d",
   "metadata": {
    "id": "5c5a29a9"
   },
   "outputs": [],
   "source": [
    "import smtplib\n",
    "from email.mime.text import MIMEText"
   ]
  },
  {
   "cell_type": "code",
   "execution_count": 14,
   "id": "05d36e86",
   "metadata": {},
   "outputs": [
    {
     "data": {
      "text/plain": [
       "(235, b'2.7.0 Accepted')"
      ]
     },
     "execution_count": 14,
     "metadata": {},
     "output_type": "execute_result"
    }
   ],
   "source": [
    "s = smtplib.SMTP('smtp.gmail.com', 587)\n",
    "s.starttls()\n",
    "\n",
    "my_email = 'kmji17@hanyang.ac.kr'\n",
    "my_password = ''\n",
    "\n",
    "s.login(my_email, my_password)"
   ]
  },
  {
   "cell_type": "code",
   "execution_count": 15,
   "id": "0457ac1a",
   "metadata": {},
   "outputs": [
    {
     "data": {
      "text/plain": [
       "(221, b'2.0.0 closing connection b18sm8243620pfl.121 - gsmtp')"
      ]
     },
     "execution_count": 15,
     "metadata": {},
     "output_type": "execute_result"
    }
   ],
   "source": [
    "wb = xl.load_workbook(\"members.xlsx\")\n",
    "sheet1 = wb['Sheet1']\n",
    "\n",
    "for i in range(2, sheet1.max_row + 1) :\n",
    "    name = sheet1.cell(i,1).value\n",
    "    address = sheet1.cell(i,2).value\n",
    "    msg = MIMEText(f'''{name} 회원님 안녕하세요?\n",
    "    벌써 2021년도 저물어 가고 있습니다.\n",
    "    올 한해 정말 수고 많았습니다.\n",
    "    첨부한 커피 쿠폰으로 조금이나마 따뜻한 연말을 보내시기 바랍니다.\n",
    "    감사합니다.\n",
    "    ''')\n",
    "    msg['Subject'] = '2021년 송년 인사'\n",
    "    s.sendmail(my_email, address, msg.as_string())\n",
    "s.quit()\n",
    "\n"
   ]
  }
 ],
 "metadata": {
  "colab": {
   "collapsed_sections": [],
   "name": "과정_종합실습문제.ipynb",
   "provenance": []
  },
  "kernelspec": {
   "display_name": "Python 3",
   "language": "python",
   "name": "python3"
  },
  "language_info": {
   "codemirror_mode": {
    "name": "ipython",
    "version": 3
   },
   "file_extension": ".py",
   "mimetype": "text/x-python",
   "name": "python",
   "nbconvert_exporter": "python",
   "pygments_lexer": "ipython3",
   "version": "3.8.8"
  }
 },
 "nbformat": 4,
 "nbformat_minor": 5
}
